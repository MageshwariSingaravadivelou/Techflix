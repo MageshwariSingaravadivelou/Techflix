{
 "cells": [
  {
   "cell_type": "code",
   "execution_count": 1,
   "metadata": {},
   "outputs": [
    {
     "name": "stdout",
     "output_type": "stream",
     "text": [
      "Collecting selenium\n",
      "  Downloading selenium-3.141.0-py2.py3-none-any.whl (904 kB)\n",
      "Requirement already satisfied: urllib3 in c:\\users\\v-msingarava\\anaconda3\\lib\\site-packages (from selenium) (1.26.4)\n",
      "Installing collected packages: selenium\n",
      "Successfully installed selenium-3.141.0\n",
      "Note: you may need to restart the kernel to use updated packages.\n"
     ]
    }
   ],
   "source": [
    "pip install selenium"
   ]
  },
  {
   "cell_type": "code",
   "execution_count": 2,
   "metadata": {},
   "outputs": [
    {
     "name": "stdout",
     "output_type": "stream",
     "text": [
      "Requirement already satisfied: BeautifulSoup4 in c:\\users\\v-msingarava\\anaconda3\\lib\\site-packages (4.9.3)\n",
      "Requirement already satisfied: soupsieve>1.2 in c:\\users\\v-msingarava\\anaconda3\\lib\\site-packages (from BeautifulSoup4) (2.2.1)\n",
      "Note: you may need to restart the kernel to use updated packages.\n"
     ]
    }
   ],
   "source": [
    "pip install BeautifulSoup4"
   ]
  },
  {
   "cell_type": "code",
   "execution_count": 8,
   "metadata": {},
   "outputs": [],
   "source": [
    "# import required libraries\n",
    "from selenium import webdriver\n",
    "from bs4 import BeautifulSoup\n",
    "import pandas as pd\n",
    "import requests\n",
    "import re"
   ]
  },
  {
   "cell_type": "code",
   "execution_count": 9,
   "metadata": {},
   "outputs": [],
   "source": [
    "# configuring Chrome driver to use Chrome Browser\n",
    "driver = webdriver.Chrome(\"C:/Users/v-msingarava/Desktop/chromedriver_win32/chromedriver\")\n",
    "\n",
    "# Site URL\n",
    "url=\"https://www.boxofficemojo.com/year/world/?ref_=bo_nb_in_tab\"\n",
    "# driver.get(url)"
   ]
  },
  {
   "cell_type": "code",
   "execution_count": 10,
   "metadata": {},
   "outputs": [
    {
     "name": "stdout",
     "output_type": "stream",
     "text": [
      "Number of tables on site:  1\n"
     ]
    }
   ],
   "source": [
    "# Make a GET request to fetch the raw HTML content\n",
    "html_content = requests.get(url).text\n",
    "\n",
    "# Parse HTML code for the entire site\n",
    "soup = BeautifulSoup(html_content, \"lxml\")\n",
    "\n",
    "# to find number of tables in the page\n",
    "table1 = soup.find_all(\"div\", attrs={\"class\": \"a-section imdb-scroll-table-inner\"})\n",
    "print(\"Number of tables on site: \",len(table1))"
   ]
  },
  {
   "cell_type": "code",
   "execution_count": 15,
   "metadata": {},
   "outputs": [],
   "source": [
    "# fetch table content using selenium\n",
    "movie_data = []\n",
    "n=1\n",
    "for tr in soup.find_all('tr')[1:3]:\n",
    "    n = n + 1\n",
    "    movie_dict = {}\n",
    "    tds = tr.find_all('td')\n",
    "    movie_dict[\"Rank\"] = tds[0].text\n",
    "    movie_dict[\"Movie Name\"] = tds[1].text\n",
    "    movie_dict[\"Worldwide Revenue\"] = tds[2].text\n",
    "    \n",
    "    movie_link = tds[1].findAll('a')\n",
    "    movie_dict[\"First_level_link\"] = \"https://www.boxofficemojo.com\" + movie_link[0]['href']\n",
    "    \n",
    "    driver.get(\"https://www.boxofficemojo.com\" + movie_link[0]['href'])\n",
    "    # First level Link\n",
    "    # driver.find_element_by_xpath('//*[@id=\"table\"]/div/table[2]/tbody/tr[{}]/td[2]/a'.format(n)).click()\n",
    "    \n",
    "    # movie page\n",
    "    driver.find_element_by_xpath('//*[@id=\"title-summary-refiner\"]/a').click()\n",
    "\n",
    "    # movie info\n",
    "    #divs = driver.find_elements_by_css_selector('#a-page > main > div > div.a-section.a-spacing-none.mojo-gutter.mojo-summary-table > div.a-section.a-spacing-none.mojo-summary-values.mojo-hidden-from-mobile')\n",
    "    divs = driver.find_elements_by_xpath('//*[@id=\"a-page\"]/main/div/div[3]/div[4]')\n",
    "    \n",
    "    #divs = driver.find_elements_by_xpath('//div[@class=\"a-section a-spacing-none mojo-gutter mojo-summary-table\"]')\n",
    "    #div_count = 1\n",
    "    #for div in divs:\n",
    "    #    movie_dict[\"Others\"] = div.text\n",
    "        \n",
    "    try:\n",
    "        movie_dict[driver.find_element_by_xpath('//*[@id=\"a-page\"]/main/div/div[3]/div[4]/div[1]/span[1]').text] = driver.find_element_by_xpath('//*[@id=\"a-page\"]/main/div/div[3]/div[4]/div[1]/span[2]').text\n",
    "        movie_dict[driver.find_element_by_xpath('//*[@id=\"a-page\"]/main/div/div[3]/div[4]/div[2]/span[1]').text] = driver.find_element_by_xpath('//*[@id=\"a-page\"]/main/div/div[3]/div[4]/div[2]/span[2]').text\n",
    "        movie_dict[driver.find_element_by_xpath('//*[@id=\"a-page\"]/main/div/div[3]/div[4]/div[3]/span[1]').text] = driver.find_element_by_xpath('//*[@id=\"a-page\"]/main/div/div[3]/div[4]/div[3]/span[2]').text\n",
    "        movie_dict[driver.find_element_by_xpath('//*[@id=\"a-page\"]/main/div/div[3]/div[4]/div[4]/span[1]').text] = driver.find_element_by_xpath('//*[@id=\"a-page\"]/main/div/div[3]/div[4]/div[4]/span[2]').text\n",
    "        movie_dict[driver.find_element_by_xpath('//*[@id=\"a-page\"]/main/div/div[3]/div[4]/div[5]/span[1]').text] = driver.find_element_by_xpath('//*[@id=\"a-page\"]/main/div/div[3]/div[4]/div[5]/span[2]').text\n",
    "        movie_dict[driver.find_element_by_xpath('//*[@id=\"a-page\"]/main/div/div[3]/div[4]/div[6]/span[1]').text] = driver.find_element_by_xpath('//*[@id=\"a-page\"]/main/div/div[3]/div[4]/div[6]/span[2]').text\n",
    "        movie_dict[driver.find_element_by_xpath('//*[@id=\"a-page\"]/main/div/div[3]/div[4]/div[7]/span[1]').text] = driver.find_element_by_xpath('//*[@id=\"a-page\"]/main/div/div[3]/div[4]/div[7]/span[2]').text\n",
    "    except Exception:\n",
    "        pass\n",
    "      \n",
    "    movie_data.append(movie_dict)\n",
    "\n",
    "    # print(\"Rank: {}, Movie Name: {}, Worldwide: {}\".format(tds[0].text, tds[1].text, tds[2].text))"
   ]
  },
  {
   "cell_type": "code",
   "execution_count": 16,
   "metadata": {},
   "outputs": [],
   "source": [
    "driver.close()\n",
    "\n",
    "#headings = [\"Rank\", \"Movie Name\", \"Worldwide Revenue\", \"First_level_link\"]\n",
    "# save the dataframe to local excel file\n",
    "df = pd.DataFrame(data=movie_data)\n",
    "df.head()\n",
    "df.to_excel(\"C:/Users/v-msingarava/Desktop/movie_data_set.xlsx\", index=False)"
   ]
  },
  {
   "cell_type": "code",
   "execution_count": null,
   "metadata": {},
   "outputs": [],
   "source": []
  }
 ],
 "metadata": {
  "kernelspec": {
   "display_name": "Python 3",
   "language": "python",
   "name": "python3"
  },
  "language_info": {
   "codemirror_mode": {
    "name": "ipython",
    "version": 3
   },
   "file_extension": ".py",
   "mimetype": "text/x-python",
   "name": "python",
   "nbconvert_exporter": "python",
   "pygments_lexer": "ipython3",
   "version": "3.8.8"
  }
 },
 "nbformat": 4,
 "nbformat_minor": 4
}
