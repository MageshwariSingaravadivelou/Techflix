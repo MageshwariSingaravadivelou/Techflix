{
 "cells": [
  {
   "cell_type": "code",
   "execution_count": 1,
   "id": "8ebae763",
   "metadata": {},
   "outputs": [],
   "source": [
    "import requests \n",
    "import pandas as pd\n",
    "\n",
    "api_key = '' # inser your TMDB API key\n",
    "movie_id = 278"
   ]
  },
  {
   "cell_type": "code",
   "execution_count": 4,
   "id": "2b046896",
   "metadata": {},
   "outputs": [
    {
     "name": "stdout",
     "output_type": "stream",
     "text": [
      "{'adult': False, 'backdrop_path': '/9Xw0I5RV2ZqNLpul6lXKoviYg55.jpg', 'belongs_to_collection': None, 'budget': 25000000, 'genres': [{'id': 18, 'name': 'Drama'}, {'id': 80, 'name': 'Crime'}], 'homepage': '', 'id': 278, 'imdb_id': 'tt0111161', 'original_language': 'en', 'original_title': 'The Shawshank Redemption', 'overview': 'Framed in the 1940s for the double murder of his wife and her lover, upstanding banker Andy Dufresne begins a new life at the Shawshank prison, where he puts his accounting skills to work for an amoral warden. During his long stretch in prison, Dufresne comes to be admired by the other inmates -- including an older prisoner named Red -- for his integrity and unquenchable sense of hope.', 'popularity': 56.917, 'poster_path': '/q6y0Go1tsGEsmtFryDOJo3dEmqu.jpg', 'production_companies': [{'id': 97, 'logo_path': '/7znWcbDd4PcJzJUlJxYqAlPPykp.png', 'name': 'Castle Rock Entertainment', 'origin_country': 'US'}], 'production_countries': [{'iso_3166_1': 'US', 'name': 'United States of America'}], 'release_date': '1994-09-23', 'revenue': 28341469, 'runtime': 142, 'spoken_languages': [{'english_name': 'English', 'iso_639_1': 'en', 'name': 'English'}], 'status': 'Released', 'tagline': 'Fear can hold you prisoner. Hope can set you free.', 'title': 'The Shawshank Redemption', 'video': False, 'vote_average': 8.7, 'vote_count': 19594}\n"
     ]
    }
   ],
   "source": [
    "# get data using movie id and API key\n",
    "def tmdb_movie_data():\n",
    "    response = requests.get('https://api.themoviedb.org/3/movie/{}?api_key={}&language=en-US'.format(movie_id, api_key))\n",
    "    data = response.json()\n",
    "    print(data)\n",
    "\n",
    "tmdb_movie_data()"
   ]
  },
  {
   "cell_type": "code",
   "execution_count": 5,
   "id": "babb0069",
   "metadata": {},
   "outputs": [
    {
     "name": "stdout",
     "output_type": "stream",
     "text": [
      "{'genres': [{'id': 28, 'name': 'Action'}, {'id': 12, 'name': 'Adventure'}, {'id': 16, 'name': 'Animation'}, {'id': 35, 'name': 'Comedy'}, {'id': 80, 'name': 'Crime'}, {'id': 99, 'name': 'Documentary'}, {'id': 18, 'name': 'Drama'}, {'id': 10751, 'name': 'Family'}, {'id': 14, 'name': 'Fantasy'}, {'id': 36, 'name': 'History'}, {'id': 27, 'name': 'Horror'}, {'id': 10402, 'name': 'Music'}, {'id': 9648, 'name': 'Mystery'}, {'id': 10749, 'name': 'Romance'}, {'id': 878, 'name': 'Science Fiction'}, {'id': 10770, 'name': 'TV Movie'}, {'id': 53, 'name': 'Thriller'}, {'id': 10752, 'name': 'War'}, {'id': 37, 'name': 'Western'}]}\n"
     ]
    }
   ],
   "source": [
    "# to get the list of genres\n",
    "response = requests.get('https://api.themoviedb.org/3/genre/movie/list?api_key={}&language=en-US'.format(api_key))\n",
    "data = response.json()\n",
    "print(data)"
   ]
  },
  {
   "cell_type": "code",
   "execution_count": 9,
   "id": "16c357f8",
   "metadata": {},
   "outputs": [
    {
     "name": "stdout",
     "output_type": "stream",
     "text": [
      "dict_keys(['page', 'results', 'total_pages', 'total_results'])\n",
      "9067\n"
     ]
    }
   ],
   "source": [
    "#To get top rated movies list using API: \n",
    "pg_no = 1\n",
    "movie_ids = [] # create epty list to store all the top-rated movie ids\n",
    "\n",
    "response = requests.get('https://api.themoviedb.org/3/movie/top_rated?api_key={}&language=en-US&page={}'.format(api_key, pg_no))\n",
    "data = response.json()\n",
    "print(data.keys())\n",
    "print(data['total_results']) # total no of movies\n",
    "last_page = data[\"total_pages\"] #total no of pages\n",
    "\n",
    "for each in data['results']:\n",
    "    movie_ids.append(each['id'])\n",
    "\n",
    "# iterate through all the pages and collect the movies id\n",
    "\n",
    "for pg_no in range(2, last_page+1):\n",
    "    response = requests.get('https://api.themoviedb.org/3/movie/top_rated?api_key={}&language=en-US&page={}'.format(api_key, pg_no))\n",
    "    data = response.json()\n",
    "    for each in data['results']:\n",
    "        movie_ids.append(each['id'])\n"
   ]
  },
  {
   "cell_type": "code",
   "execution_count": 10,
   "id": "7f5aecc0",
   "metadata": {},
   "outputs": [
    {
     "name": "stdout",
     "output_type": "stream",
     "text": [
      "9067\n"
     ]
    }
   ],
   "source": [
    "print(len(movie_ids))"
   ]
  },
  {
   "cell_type": "code",
   "execution_count": 11,
   "id": "5a67cc08",
   "metadata": {},
   "outputs": [
    {
     "data": {
      "text/html": [
       "<div>\n",
       "<style scoped>\n",
       "    .dataframe tbody tr th:only-of-type {\n",
       "        vertical-align: middle;\n",
       "    }\n",
       "\n",
       "    .dataframe tbody tr th {\n",
       "        vertical-align: top;\n",
       "    }\n",
       "\n",
       "    .dataframe thead th {\n",
       "        text-align: right;\n",
       "    }\n",
       "</style>\n",
       "<table border=\"1\" class=\"dataframe\">\n",
       "  <thead>\n",
       "    <tr style=\"text-align: right;\">\n",
       "      <th></th>\n",
       "      <th>0</th>\n",
       "    </tr>\n",
       "  </thead>\n",
       "  <tbody>\n",
       "    <tr>\n",
       "      <th>0</th>\n",
       "      <td>19404</td>\n",
       "    </tr>\n",
       "    <tr>\n",
       "      <th>1</th>\n",
       "      <td>278</td>\n",
       "    </tr>\n",
       "    <tr>\n",
       "      <th>2</th>\n",
       "      <td>238</td>\n",
       "    </tr>\n",
       "    <tr>\n",
       "      <th>3</th>\n",
       "      <td>283566</td>\n",
       "    </tr>\n",
       "    <tr>\n",
       "      <th>4</th>\n",
       "      <td>724089</td>\n",
       "    </tr>\n",
       "  </tbody>\n",
       "</table>\n",
       "</div>"
      ],
      "text/plain": [
       "        0\n",
       "0   19404\n",
       "1     278\n",
       "2     238\n",
       "3  283566\n",
       "4  724089"
      ]
     },
     "execution_count": 11,
     "metadata": {},
     "output_type": "execute_result"
    }
   ],
   "source": [
    "df = pd.DataFrame(movie_ids)\n",
    "df.head()"
   ]
  },
  {
   "cell_type": "code",
   "execution_count": 12,
   "id": "5c9b7a5e",
   "metadata": {},
   "outputs": [],
   "source": [
    "df.to_excel(\"C:/Users/v-msingarava/Desktop/tmdb_movies_list.xlsx\")"
   ]
  },
  {
   "cell_type": "code",
   "execution_count": 3,
   "id": "146ccde0",
   "metadata": {},
   "outputs": [
    {
     "name": "stdout",
     "output_type": "stream",
     "text": [
      "28580\n"
     ]
    }
   ],
   "source": [
    "movie_df = pd.read_excel(\"C:/Users/v-msingarava/Desktop/tmdb_movies_list.xlsx\")\n",
    "movie_ids = movie_df[\"Movie Id\"].to_list()\n",
    "print(movie_ids[799])"
   ]
  },
  {
   "cell_type": "code",
   "execution_count": 4,
   "id": "f63907f0",
   "metadata": {},
   "outputs": [
    {
     "name": "stdout",
     "output_type": "stream",
     "text": [
      "{'adult': False, 'backdrop_path': '/wDrs28ZYYnXVIeb87H0dCYlWiFA.jpg', 'belongs_to_collection': {'id': 225961, 'name': 'Birdemic Collection', 'poster_path': '/x3MZmE83eHBsLfNZZn68Ua2NAKB.jpg', 'backdrop_path': '/zr8q5nGsLf6yjL9yKPZhgYRYc63.jpg'}, 'budget': 0, 'genres': [{'id': 878, 'name': 'Science Fiction'}, {'id': 27, 'name': 'Horror'}], 'homepage': 'http://www.birdemic.com/', 'id': 40016, 'imdb_id': 'tt1316037', 'original_language': 'en', 'original_title': 'Birdemic: Shock and Terror', 'overview': \"A platoon of eagles and vultures attacks the residents of a small town. Many people die. It's not known what caused the flying menace to attack. Two people manage to fight back, but will they survive Birdemic?\", 'popularity': 8.234, 'poster_path': '/lNC2Alq5CIIuPp1Bv0Y8hPHXZlP.jpg', 'production_companies': [{'id': 23390, 'logo_path': None, 'name': 'Moviehead Pictures', 'origin_country': ''}], 'production_countries': [{'iso_3166_1': 'US', 'name': 'United States of America'}], 'release_date': '2010-02-27', 'revenue': 0, 'runtime': 95, 'spoken_languages': [{'english_name': 'English', 'iso_639_1': 'en', 'name': 'English'}], 'status': 'Released', 'tagline': 'Why did the eagles and vultures attack?', 'title': 'Birdemic: Shock and Terror', 'video': False, 'vote_average': 2.2, 'vote_count': 229}\n"
     ]
    }
   ],
   "source": [
    "movie_data = []\n",
    "\n",
    "#Extract the movie data based on the ids collected\n",
    "\n",
    "for each_id in movie_ids:\n",
    "    response = requests.get('https://api.themoviedb.org/3/movie/{}?api_key={}&language=en-US'.format(each_id, api_key))\n",
    "    data = response.json()\n",
    "    movie_data.append(data)\n",
    "\n",
    "print(movie_data[-1])"
   ]
  },
  {
   "cell_type": "code",
   "execution_count": 5,
   "id": "52c46070",
   "metadata": {},
   "outputs": [],
   "source": [
    "df = pd.DataFrame(movie_data)\n",
    "df.to_excel(\"C:/Users/v-msingarava/Desktop/tmdb_movie_data.xlsx\")"
   ]
  },
  {
   "cell_type": "code",
   "execution_count": null,
   "id": "c8974905",
   "metadata": {},
   "outputs": [],
   "source": []
  }
 ],
 "metadata": {
  "kernelspec": {
   "display_name": "Python 3",
   "language": "python",
   "name": "python3"
  },
  "language_info": {
   "codemirror_mode": {
    "name": "ipython",
    "version": 3
   },
   "file_extension": ".py",
   "mimetype": "text/x-python",
   "name": "python",
   "nbconvert_exporter": "python",
   "pygments_lexer": "ipython3",
   "version": "3.8.8"
  }
 },
 "nbformat": 4,
 "nbformat_minor": 5
}
